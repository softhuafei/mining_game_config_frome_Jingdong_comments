{
 "cells": [
  {
   "cell_type": "code",
   "execution_count": 5,
   "metadata": {
    "collapsed": true
   },
   "outputs": [],
   "source": [
    "import pandas as pd\n",
    "import numpy as np\n",
    "import math\n",
    "import nltk\n",
    "from nltk.corpus import stopwords\n",
    "from nltk.stem.porter import PorterStemmer\n",
    "import jieba\n",
    "from tqdm import tqdm\n",
    "import csv\n",
    "import pickle"
   ]
  },
  {
   "cell_type": "code",
   "execution_count": null,
   "metadata": {
    "collapsed": true
   },
   "outputs": [],
   "source": [
    "def read(file_name):\n",
    "    urls = []\n",
    "    commend = []\n",
    "    colors = []\n",
    "    size = []\n",
    "    url_title = []\n",
    "    with open(file_name,'r',encoding = 'utf-8') as myFile:  \n",
    "        lines=csv.reader(myFile)  \n",
    "        for line in lines:\n",
    "            if(len(line) == 1):\n",
    "                url = line[0]\n",
    "            if(len(line)>1):\n",
    "                urls.append(url)\n",
    "                commend.append(line[2])\n",
    "                colors.append(line[3])\n",
    "                size.append(line[4])\n",
    "                url_title.append(line[6]) \n",
    "    return pd.DataFrame({'url': urls, 'comment': commend, 'colors': colors, 'size':size, 'url_title': url_title})\n",
    "\n",
    "def remove_CSVnull(in_file, out_file):\n",
    "    fi=open(in_file,'rb')\n",
    "    data=fi.read()\n",
    "    fi.close()\n",
    "\n",
    "    fo=open(out_file,'wb')\n",
    "    fo.write(data.replace(b'\\x00',b''))\n",
    "    fo.close()\n",
    "\n",
    "def get_url_attr_commends_useinfo(commfile, urlfile):\n",
    "    comments = read(commfile)\n",
    "    url_title = pd.read_csv(urlfile)\n",
    "    if 'more_attrs' not in url_title.columns:\n",
    "        url_title['more_attrs'] = None\n",
    "    url_attr_comments_useinfo = comments.merge(url_title, on='url', how='left')\n",
    "    url_attr_comments_useinfo = url_attr_comments_useinfo[['url', 'product_name', 'price', 'attrs', 'price2', 'more_attrs', 'comment', 'colors','size', 'url_title']]\n",
    "    return url_attr_comments_useinfo\n",
    "\n",
    "# 停用词\n",
    "def get_stopwords():\n",
    "    with open('./stopword.csv', 'r', encoding='utf-8') as f:\n",
    "        stopwords = f.read()\n",
    "    return stopwords\n",
    "\n",
    "def pickleLoad(path):\n",
    "    obj = None\n",
    "    with open(path, 'rb') as f:\n",
    "        obj = pickle.load(f)\n",
    "    return obj\n",
    "\n",
    "def pickleDump(obj, path):\n",
    "    with open(path, 'wb') as f:\n",
    "        pickle.dump(obj, f)"
   ]
  },
  {
   "cell_type": "code",
   "execution_count": null,
   "metadata": {
    "collapsed": true
   },
   "outputs": [],
   "source": [
    "# 去除csv中的null\n",
    "# remove_CSVnull('./input/ytj-result.csv', './input/ytj-result_new.csv')\n",
    "# remove_CSVnull('./input/qbb-result.csv', './input/qbb-result_new.csv')\n",
    "# remove_CSVnull('./input/tsj-result.csv', './input/tsj-result_new.csv')"
   ]
  },
  {
   "cell_type": "code",
   "execution_count": null,
   "metadata": {
    "collapsed": true
   },
   "outputs": [],
   "source": [
    "# # 将评论与商品的属性拼接起来\n",
    "# ytj_url_comments = get_url_attr_commends_useinfo('./input/ytj-result_new.csv', './input/ytj.csv')\n",
    "# qbb_url_comments = get_url_attr_commends_useinfo('./input/qbb-result_new.csv', './input/qbb.csv')\n",
    "# bjb_url_comments = get_url_attr_commends_useinfo('./input/bjb-result_new.csv', './input/bjb.csv')\n",
    "# tsj_url_comments = get_url_attr_commends_useinfo('./input/tsj-result_new.csv', './input/tsj.csv')\n",
    "\n",
    "# # 合并所有的数据\n",
    "# all_url_coments = pd.concat([ytj_url_comments, qbb_url_comments, bjb_url_comments, tsj_url_comments]).reset_index(drop=True)\n",
    "# # 过滤掉不是电脑的数据\n",
    "# key_words = ['显卡', '系统', '硬盘', 'Windows', '内存','i5', '笔记本电脑', '台式电脑', '台式机']\n",
    "# def is_cp(x):\n",
    "#     global key_words\n",
    "#     for key in key_words:\n",
    "#         if key in x['attrs']:\n",
    "#             return True\n",
    "#     return False\n",
    "\n",
    "# cp_relative = all_url_coments.apply(is_cp, axis=1)\n",
    "# all_url_coments = all_url_coments[cp_relative].reset_index(drop=True)\n",
    "# all_url_coments.to_csv('./input/all_url_coments_pc.csv', index=False)"
   ]
  },
  {
   "cell_type": "markdown",
   "metadata": {},
   "source": [
    "# 模型"
   ]
  },
  {
   "cell_type": "code",
   "execution_count": 3,
   "metadata": {},
   "outputs": [
    {
     "name": "stderr",
     "output_type": "stream",
     "text": [
      "D:\\ProgramFile\\Anaconda3\\lib\\site-packages\\IPython\\core\\interactiveshell.py:2728: DtypeWarning: Columns (5) have mixed types. Specify dtype option on import or set low_memory=False.\n",
      "  interactivity=interactivity, compiler=compiler, result=result)\n"
     ]
    }
   ],
   "source": [
    "all_url_coments = pd.read_csv('./input/all_url_coments_pc.csv')"
   ]
  },
  {
   "cell_type": "code",
   "execution_count": 6,
   "metadata": {
    "collapsed": true
   },
   "outputs": [],
   "source": [
    "url_df = pd.DataFrame({'url': list(set(all_url_coments.url.values.tolist()))})\n",
    "url_df.to_csv('./zhiwei_url.csv', index=False)"
   ]
  },
  {
   "cell_type": "code",
   "execution_count": null,
   "metadata": {
    "collapsed": true,
    "scrolled": false
   },
   "outputs": [],
   "source": [
    "# 过滤掉name不涉及游戏的数据\n",
    "key_words = ['游戏']\n",
    "def is_cp(x):\n",
    "    global key_words\n",
    "    for key in key_words:\n",
    "        if key in x['product_name']:\n",
    "            return True\n",
    "    return False\n",
    "\n",
    "cp_relative = all_url_coments.apply(is_cp, axis=1)\n",
    "all_url_coments = all_url_coments[cp_relative].reset_index(drop=True)"
   ]
  },
  {
   "cell_type": "code",
   "execution_count": null,
   "metadata": {
    "collapsed": true,
    "scrolled": true
   },
   "outputs": [],
   "source": [
    "# 去掉比较短的评论(20字以下的)\n",
    "long_comm = all_url_coments['comment'].str.len() >= 20\n",
    "long_url_comments = all_url_coments[long_comm].reset_index(drop=True)\n",
    "long_url_comments.to_csv('./input/long_url_comments.csv', index=False)"
   ]
  },
  {
   "cell_type": "code",
   "execution_count": null,
   "metadata": {
    "collapsed": true,
    "scrolled": true
   },
   "outputs": [],
   "source": [
    "# # 取出所有的评论\n",
    "# comments = long_url_comments.sample(random_state=2018, n=2000)['product_name'].values.tolist()\n",
    "\n",
    "# 获取title\n",
    "comments = list(set(long_url_comments['product_name'].values.tolist()))\n",
    "len(comments)"
   ]
  },
  {
   "cell_type": "code",
   "execution_count": null,
   "metadata": {
    "collapsed": true
   },
   "outputs": [],
   "source": [
    "# 分词\n",
    "comments_words = []\n",
    "for comm in tqdm(comments):\n",
    "    seg_list = jieba.cut(comm)  # 默认是精确模式\n",
    "    comments_words.append(' '.join(seg_list))\n",
    "    \n",
    "    \n",
    "# 去停用词\n",
    "stopwords = get_stopwords()\n",
    "new_comments_words = []\n",
    "for comm_words in tqdm(comments_words):\n",
    "    new_comm_words = []\n",
    "    for word in comm_words.strip().split():\n",
    "        if word not in stopwords:\n",
    "            new_comm_words.append(word)\n",
    "    new_comments_words.append(' '.join(new_comm_words))\n",
    "\n",
    "# 利用sklearn countvectorizer 或取文档的bow表示(稀疏矩阵)\n",
    "from sklearn.feature_extraction.text import CountVectorizer\n",
    "\n",
    "vectorizer = CountVectorizer()\n",
    "X = vectorizer.fit_transform(new_comments_words) #(4854, 3021)\n",
    "# pickleDump(vectorizer, './tf_vectorizer.pickle')\n",
    "X.shape\n"
   ]
  },
  {
   "cell_type": "code",
   "execution_count": null,
   "metadata": {
    "collapsed": true
   },
   "outputs": [],
   "source": []
  },
  {
   "cell_type": "code",
   "execution_count": null,
   "metadata": {
    "collapsed": true
   },
   "outputs": [],
   "source": [
    "def print_top_words(model, feature_names, n_top_words):\n",
    "    for topic_idx, topic in enumerate(model.components_):\n",
    "        message = \"Topic #%d: \" % topic_idx\n",
    "        message += \" \".join([feature_names[i]\n",
    "                             for i in topic.argsort()[:-n_top_words - 1:-1]])\n",
    "        print(message)\n",
    "    print()"
   ]
  },
  {
   "cell_type": "code",
   "execution_count": null,
   "metadata": {
    "collapsed": true,
    "scrolled": true
   },
   "outputs": [],
   "source": [
    "# 训练LDA\n",
    "from sklearn.decomposition import LatentDirichletAllocation\n",
    "lda = LatentDirichletAllocation(n_topics=5, \n",
    "                                max_iter=1000, \n",
    "                                learning_method='batch',\n",
    "                                verbose=1,\n",
    "                                random_state=2018)\n",
    "lda.fit(X)"
   ]
  },
  {
   "cell_type": "markdown",
   "metadata": {},
   "source": [
    "@评论\n",
    "物流\n",
    "售后\n",
    "外观\n",
    "性价比\n",
    "开机速度、流畅\n",
    "性能\n",
    "屏幕\n",
    "散热"
   ]
  },
  {
   "cell_type": "code",
   "execution_count": null,
   "metadata": {
    "collapsed": true
   },
   "outputs": [],
   "source": [
    "print(\"\\nTopics in LDA model:\")\n",
    "n_top_words = 10\n",
    "tf_feature_names = vectorizer.get_feature_names()\n",
    "print_top_words(lda, tf_feature_names, n_top_words)"
   ]
  },
  {
   "cell_type": "code",
   "execution_count": null,
   "metadata": {
    "collapsed": true
   },
   "outputs": [],
   "source": [
    "# 每篇文档的主题分布\n",
    "doc_topic_dist = lda.transform(X)"
   ]
  },
  {
   "cell_type": "code",
   "execution_count": null,
   "metadata": {
    "collapsed": true
   },
   "outputs": [],
   "source": [
    "doc_topic_dist[]"
   ]
  },
  {
   "cell_type": "code",
   "execution_count": null,
   "metadata": {
    "collapsed": true
   },
   "outputs": [],
   "source": []
  }
 ],
 "metadata": {
  "kernelspec": {
   "display_name": "Python 3",
   "language": "python",
   "name": "python3"
  },
  "language_info": {
   "codemirror_mode": {
    "name": "ipython",
    "version": 3
   },
   "file_extension": ".py",
   "mimetype": "text/x-python",
   "name": "python",
   "nbconvert_exporter": "python",
   "pygments_lexer": "ipython3",
   "version": "3.6.3"
  }
 },
 "nbformat": 4,
 "nbformat_minor": 2
}
