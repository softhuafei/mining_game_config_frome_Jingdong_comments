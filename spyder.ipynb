{
 "cells": [
  {
   "cell_type": "code",
   "execution_count": 1,
   "metadata": {
    "collapsed": true
   },
   "outputs": [],
   "source": [
    "import re\n",
    "import requests\n",
    "import json\n",
    "import csv\n",
    "import pandas as pd\n",
    "from fake_useragent import UserAgent\n",
    "import time\n",
    "from tqdm import tqdm"
   ]
  },
  {
   "cell_type": "code",
   "execution_count": 2,
   "metadata": {
    "collapsed": true,
    "scrolled": true
   },
   "outputs": [],
   "source": [
    "# -*- coding: utf-8 -*-\n",
    "\"\"\"\n",
    "Created on Tue Nov 27 15:12:41 2018\n",
    "\n",
    "@author: lenovo\n",
    "\"\"\"\n",
    "import re\n",
    "import requests\n",
    "import json\n",
    "import csv\n",
    "import pandas as pd\n",
    "from fake_useragent import UserAgent\n",
    "import time\n",
    "from tqdm import tqdm\n",
    "def getPageComments(url,param):           #获得一页的评论\n",
    "    try:\n",
    "        ua = UserAgent()\n",
    "        headers_ = {'User-Agent': ua.random}\n",
    "        r=requests.get(url,params=param,timeout=30, headers=headers_)\n",
    "        print(r.url)\n",
    "        r.raise_for_status()\n",
    "        r.encoding=r.apparent_encoding\n",
    "        return r.text\n",
    "    except:\n",
    "        print('爬取失败'+url)\n",
    "        return ''\n",
    "        \n",
    "def getContent(data):                     #对一页的评论进行分析\n",
    "    commentList=[]\n",
    "    try:                     \n",
    "        data_convert = re.findall(r'{\"productAttr\":.*}',data)  #使用正则表达式对string内容进行匹配，返回的是list\n",
    "#        print(type(data_convert))\n",
    "#        print(len(data_convert))\n",
    "        data_convert = data_convert[0]    #取出list的元素，元素为string\n",
    "#        print(type(data_convert))\n",
    "        data_convert = json.loads(data_convert)    #将string转为dict\n",
    "#        print(type(data_convert))\n",
    "        comments = data_convert['comments']      #取出dict中的comments,comments为key,其value为list，list的元素为dict,一个dict就是一条评论\n",
    "#        print(type(comments))\n",
    "#        print(len(comments))\n",
    "        #print(comments)\n",
    "        for element in comments:   #取出list中的元素dict\n",
    "            score_comment=[element['score'],element['content'].replace('\\n',''), element['productColor'], element['productSize'],element['productSales'],element['referenceName']]    #取出dict中key为'score','content'对应的value，以list存储\n",
    "            commentList.append(score_comment)\n",
    "        return commentList\n",
    "    except:\n",
    "        return None\n",
    "        print('解析失败')\n",
    "\n",
    "def getComments(url,page_num,productId):\n",
    "    comments = []\n",
    "    param={                                                #url中的参数\n",
    "#            'callback': 'fetchJSON_comment98vv28909',\n",
    "            'productId': 7512626,\n",
    "            'score': 0,\n",
    "            'sortType': 5,\n",
    "            'page': 0,\n",
    "            'pageSize': 10,\n",
    "            'isShadowSku': 0,\n",
    "            'fold': 1\n",
    "            }\n",
    "    param['productId'] = productId \n",
    "    for i in range(page_num):\n",
    "        param['page'] = i\n",
    "        data_text = getPageComments(url,param)\n",
    "        if(data_text!=''):\n",
    "            commentsList = getContent(data_text)\n",
    "            if(commentsList!=None):\n",
    "#                print(commentsList)\n",
    "                comments.extend(commentsList)\n",
    "    return comments\n",
    "\n",
    "def wirteToCsv(file_name, url,comments, write_type):                #写入csv\n",
    "    with open(file_name, 'a',newline='',encoding='UTF-8') as csvFile:\n",
    "        csv_writer = csv.writer(csvFile)\n",
    "#        csv_writer.writerow(['url','评论'])\n",
    "        if(write_type == 1):\n",
    "            data = [url]\n",
    "            csv_writer.writerow(data)\n",
    "        if(write_type == 2):\n",
    "            for element in comments:                   #comments的每个元素作为一行写入\n",
    "                element.insert(0,'')\n",
    "                csv_writer.writerow(element)  \n",
    "        csvFile.close() \n",
    "        \n",
    "def fetchProductId(url):\n",
    "#https://item.jd.com/7512626.html\n",
    "    productId = re.findall('\\\\d+',url)\n",
    "    return productId\n",
    "    \n",
    "def readUrl(file_path):\n",
    "    d = pd.read_csv(file_path)\n",
    "    url_list = d['url'].values.tolist()\n",
    "    return url_list\n",
    "\n",
    "def process(url_file_path, result_file_path):\n",
    "    url_base=\"https://sclub.jd.com/comment/productPageComments.action?\"\n",
    "    urls = readUrl(url_file_path)\n",
    "    for url in tqdm(urls):\n",
    "        productId = fetchProductId(url)\n",
    "        time.sleep(0.2)\n",
    "#        print('productId')\n",
    "#        print(productId)\n",
    "        wirteToCsv(result_file_path, url, '',1)\n",
    "        comments = getComments(url_base,100,productId[0])\n",
    "        wirteToCsv(result_file_path,'', comments,2)"
   ]
  },
  {
   "cell_type": "code",
   "execution_count": null,
   "metadata": {
    "scrolled": true
   },
   "outputs": [
    {
     "name": "stderr",
     "output_type": "stream",
     "text": [
      "\r",
      "  0%|                                                                                          | 0/234 [00:00<?, ?it/s]"
     ]
    },
    {
     "name": "stdout",
     "output_type": "stream",
     "text": [
      "https://sclub.jd.com/comment/productPageComments.action?productId=7294932&score=0&sortType=5&page=0&pageSize=10&isShadowSku=0&fold=1\n",
      "https://sclub.jd.com/comment/productPageComments.action?productId=7294932&score=0&sortType=5&page=1&pageSize=10&isShadowSku=0&fold=1\n",
      "https://sclub.jd.com/comment/productPageComments.action?productId=7294932&score=0&sortType=5&page=2&pageSize=10&isShadowSku=0&fold=1\n",
      "https://sclub.jd.com/comment/productPageComments.action?productId=7294932&score=0&sortType=5&page=3&pageSize=10&isShadowSku=0&fold=1\n",
      "https://sclub.jd.com/comment/productPageComments.action?productId=7294932&score=0&sortType=5&page=4&pageSize=10&isShadowSku=0&fold=1\n",
      "https://sclub.jd.com/comment/productPageComments.action?productId=7294932&score=0&sortType=5&page=5&pageSize=10&isShadowSku=0&fold=1\n",
      "爬取失败https://sclub.jd.com/comment/productPageComments.action?\n",
      "https://sclub.jd.com/comment/productPageComments.action?productId=7294932&score=0&sortType=5&page=6&pageSize=10&isShadowSku=0&fold=1\n",
      "https://sclub.jd.com/comment/productPageComments.action?productId=7294932&score=0&sortType=5&page=7&pageSize=10&isShadowSku=0&fold=1\n",
      "https://sclub.jd.com/comment/productPageComments.action?productId=7294932&score=0&sortType=5&page=8&pageSize=10&isShadowSku=0&fold=1\n",
      "https://sclub.jd.com/comment/productPageComments.action?productId=7294932&score=0&sortType=5&page=9&pageSize=10&isShadowSku=0&fold=1\n",
      "https://sclub.jd.com/comment/productPageComments.action?productId=7294932&score=0&sortType=5&page=10&pageSize=10&isShadowSku=0&fold=1\n",
      "https://sclub.jd.com/comment/productPageComments.action?productId=7294932&score=0&sortType=5&page=11&pageSize=10&isShadowSku=0&fold=1\n",
      "https://sclub.jd.com/comment/productPageComments.action?productId=7294932&score=0&sortType=5&page=12&pageSize=10&isShadowSku=0&fold=1\n",
      "https://sclub.jd.com/comment/productPageComments.action?productId=7294932&score=0&sortType=5&page=13&pageSize=10&isShadowSku=0&fold=1\n",
      "https://sclub.jd.com/comment/productPageComments.action?productId=7294932&score=0&sortType=5&page=14&pageSize=10&isShadowSku=0&fold=1\n",
      "https://sclub.jd.com/comment/productPageComments.action?productId=7294932&score=0&sortType=5&page=15&pageSize=10&isShadowSku=0&fold=1\n",
      "https://sclub.jd.com/comment/productPageComments.action?productId=7294932&score=0&sortType=5&page=16&pageSize=10&isShadowSku=0&fold=1\n"
     ]
    }
   ],
   "source": [
    "# 注意，写入的文件是append模型的，初始化的时候保证是个空文件\n",
    "process('./input/ytj.csv','./a.csv')"
   ]
  },
  {
   "cell_type": "code",
   "execution_count": null,
   "metadata": {
    "collapsed": true
   },
   "outputs": [],
   "source": []
  }
 ],
 "metadata": {
  "kernelspec": {
   "display_name": "Python 3",
   "language": "python",
   "name": "python3"
  },
  "language_info": {
   "codemirror_mode": {
    "name": "ipython",
    "version": 3
   },
   "file_extension": ".py",
   "mimetype": "text/x-python",
   "name": "python",
   "nbconvert_exporter": "python",
   "pygments_lexer": "ipython3",
   "version": "3.6.3"
  }
 },
 "nbformat": 4,
 "nbformat_minor": 2
}
